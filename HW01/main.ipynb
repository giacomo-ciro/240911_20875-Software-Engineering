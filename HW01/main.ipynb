{
 "cells": [
  {
   "cell_type": "code",
   "execution_count": 77,
   "metadata": {},
   "outputs": [
    {
     "name": "stdout",
     "output_type": "stream",
     "text": [
      "\u001b[1;31mInit signature:\u001b[0m \u001b[0mzip\u001b[0m\u001b[1;33m(\u001b[0m\u001b[0mself\u001b[0m\u001b[1;33m,\u001b[0m \u001b[1;33m/\u001b[0m\u001b[1;33m,\u001b[0m \u001b[1;33m*\u001b[0m\u001b[0margs\u001b[0m\u001b[1;33m,\u001b[0m \u001b[1;33m**\u001b[0m\u001b[0mkwargs\u001b[0m\u001b[1;33m)\u001b[0m\u001b[1;33m\u001b[0m\u001b[1;33m\u001b[0m\u001b[0m\n",
      "\u001b[1;31mDocstring:\u001b[0m     \n",
      "zip(*iterables, strict=False) --> Yield tuples until an input is exhausted.\n",
      "\n",
      "   >>> list(zip('abcdefg', range(3), range(4)))\n",
      "   [('a', 0, 0), ('b', 1, 1), ('c', 2, 2)]\n",
      "\n",
      "The zip object yields n-length tuples, where n is the number of iterables\n",
      "passed as positional arguments to zip().  The i-th element in every tuple\n",
      "comes from the i-th iterable argument to zip().  This continues until the\n",
      "shortest argument is exhausted.\n",
      "\n",
      "If strict is true and one of the arguments is exhausted before the others,\n",
      "raise a ValueError.\n",
      "\u001b[1;31mType:\u001b[0m           type\n",
      "\u001b[1;31mSubclasses:\u001b[0m     "
     ]
    }
   ],
   "source": [
    "zip?"
   ]
  },
  {
   "cell_type": "code",
   "execution_count": 101,
   "metadata": {},
   "outputs": [
    {
     "data": {
      "text/plain": [
       "'x  y  z'"
      ]
     },
     "execution_count": 101,
     "metadata": {},
     "output_type": "execute_result"
    }
   ],
   "source": [
    "'  '.join(variables)"
   ]
  },
  {
   "cell_type": "code",
   "execution_count": 98,
   "metadata": {},
   "outputs": [
    {
     "data": {
      "text/plain": [
       "[('x', True), ('y', True), ('z', True)]"
      ]
     },
     "execution_count": 98,
     "metadata": {},
     "output_type": "execute_result"
    }
   ],
   "source": [
    "[i for i in variables.items()]"
   ]
  },
  {
   "cell_type": "code",
   "execution_count": 94,
   "metadata": {},
   "outputs": [
    {
     "name": "stdout",
     "output_type": "stream",
     "text": [
      "0\n",
      "{'x': False, 'y': False, 'z': False}\n",
      "1\n",
      "{'x': True, 'y': False, 'z': False}\n",
      "2\n",
      "{'x': False, 'y': True, 'z': False}\n",
      "3\n",
      "{'x': True, 'y': True, 'z': False}\n",
      "4\n",
      "{'x': False, 'y': False, 'z': True}\n",
      "5\n",
      "{'x': True, 'y': False, 'z': True}\n",
      "6\n",
      "{'x': False, 'y': True, 'z': True}\n",
      "7\n",
      "{'x': True, 'y': True, 'z': True}\n"
     ]
    }
   ],
   "source": [
    "vars = ['x', 'y', 'z']\n",
    "n = len(vars)\n",
    "for i in range(2**n):\n",
    "     print(i)\n",
    "     variables = dict(zip(vars, [ True if (i & (1 << j)) != 0 else False for j in range(n)]))\n",
    "     print(variables)\n",
    "    #  a = dict(variables)\n",
    "    #  print(a)"
   ]
  },
  {
   "cell_type": "code",
   "execution_count": 47,
   "metadata": {},
   "outputs": [
    {
     "name": "stdout",
     "output_type": "stream",
     "text": [
      "Result: True\n"
     ]
    }
   ],
   "source": [
    "def evaluate_boolean_expression(expr, variables):\n",
    "\n",
    "    # Function to evaluate 'and', 'or', 'not' expressions\n",
    "    def apply_operator(op, a, b=None):\n",
    "        if op == 'and':\n",
    "            return a and b\n",
    "        elif op == 'or':\n",
    "            return a or b\n",
    "        elif op == 'not':\n",
    "            return not a\n",
    "\n",
    "    def recursive_solve(expression):\n",
    "\n",
    "        # Base case: if it's a single variable, return its boolean value\n",
    "        if len(expression) == 1:\n",
    "            if expression[0] in variables:\n",
    "                return variables[expression[0]]\n",
    "            elif expression[0] == 'True':\n",
    "                return True\n",
    "            elif expression[0] == 'False':\n",
    "                return False\n",
    "        \n",
    "        # Handling parentheses recursively\n",
    "        stack = []\n",
    "        i = 0\n",
    "        while i < len(expression):\n",
    "            token = expression[i]\n",
    "            \n",
    "            if token == '(':\n",
    "                # Find the matching closing parenthesis\n",
    "                open_parens = 1\n",
    "                for j in range(i + 1, len(expression)):\n",
    "                    if expression[j] == '(':\n",
    "                        open_parens += 1\n",
    "                    elif expression[j] == ')':\n",
    "                        open_parens -= 1\n",
    "                    if open_parens == 0:\n",
    "                        # Solve the sub-expression within the parentheses\n",
    "                        sub_expr_result = recursive_solve(expression[i + 1:j])\n",
    "                        stack.append(sub_expr_result)\n",
    "                        i = j  # Move the index to after the closing ')'\n",
    "                        break\n",
    "\n",
    "            elif token in ('and', 'or', 'not'):\n",
    "                # Just add operators to the stack\n",
    "                stack.append(token)\n",
    "            else:\n",
    "                # Add the variable or boolean constant\n",
    "                stack.append(variables.get(token, token))\n",
    "\n",
    "            i += 1\n",
    "\n",
    "        # Now evaluate the expression in the stack (consider 'not', 'and', 'or')\n",
    "        while 'not' in stack:\n",
    "            idx = stack.index('not')\n",
    "            stack[idx:idx+2] = [apply_operator('not', stack[idx+1])]\n",
    "\n",
    "        while 'and' in stack:\n",
    "            idx = stack.index('and')\n",
    "            stack[idx-1:idx+2] = [apply_operator('and', stack[idx-1], stack[idx+1])]\n",
    "\n",
    "        while 'or' in stack:\n",
    "            idx = stack.index('or')\n",
    "            stack[idx-1:idx+2] = [apply_operator('or', stack[idx-1], stack[idx+1])]\n",
    "\n",
    "        return stack[0]\n",
    "    \n",
    "    # Start the recursive solving process\n",
    "    return recursive_solve(expr)\n",
    "\n",
    "\n",
    "# Example usage:\n",
    "expr = ['(', 'x', 'or', 'y', ')', 'and', '(', 'not', '(', 'x', 'and', 'y', ')', ')']\n",
    "variables = {'x': True, 'y': False}\n",
    "result = evaluate_boolean_expression(expr, variables)\n",
    "print(f\"Result: {result}\")\n"
   ]
  }
 ],
 "metadata": {
  "kernelspec": {
   "display_name": "main",
   "language": "python",
   "name": "python3"
  },
  "language_info": {
   "codemirror_mode": {
    "name": "ipython",
    "version": 3
   },
   "file_extension": ".py",
   "mimetype": "text/x-python",
   "name": "python",
   "nbconvert_exporter": "python",
   "pygments_lexer": "ipython3",
   "version": "3.12.3"
  }
 },
 "nbformat": 4,
 "nbformat_minor": 2
}
