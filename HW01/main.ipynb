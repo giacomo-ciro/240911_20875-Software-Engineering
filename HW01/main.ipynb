{
 "cells": [
  {
   "cell_type": "code",
   "execution_count": 47,
   "metadata": {},
   "outputs": [
    {
     "name": "stdout",
     "output_type": "stream",
     "text": [
      "Result: True\n"
     ]
    }
   ],
   "source": [
    "def evaluate_boolean_expression(expr, variables):\n",
    "\n",
    "    # Function to evaluate 'and', 'or', 'not' expressions\n",
    "    def apply_operator(op, a, b=None):\n",
    "        if op == 'and':\n",
    "            return a and b\n",
    "        elif op == 'or':\n",
    "            return a or b\n",
    "        elif op == 'not':\n",
    "            return not a\n",
    "\n",
    "    def recursive_solve(expression): \n",
    "        # Base case: if it's a single variable, return its boolean value\n",
    "        if len(expression) == 1:\n",
    "            if expression[0] in variables:\n",
    "                return variables[expression[0]]\n",
    "            elif expression[0] == 'True':\n",
    "                return True\n",
    "            elif expression[0] == 'False':\n",
    "                return False\n",
    "        \n",
    "        # Handling parentheses recursively\n",
    "        stack = []\n",
    "        i = 0\n",
    "        while i < len(expression):\n",
    "            token = expression[i]\n",
    "            \n",
    "            if token == '(':\n",
    "                # Find the matching closing parenthesis\n",
    "                open_parens = 1\n",
    "                for j in range(i + 1, len(expression)):\n",
    "                    if expression[j] == '(':\n",
    "                        open_parens += 1\n",
    "                    elif expression[j] == ')':\n",
    "                        open_parens -= 1\n",
    "                    if open_parens == 0:\n",
    "                        # Solve the sub-expression within the parentheses\n",
    "                        sub_expr_result = recursive_solve(expression[i + 1:j])\n",
    "                        stack.append(sub_expr_result)\n",
    "                        i = j  # Move the index to after the closing ')'\n",
    "                        break\n",
    "\n",
    "            elif token in ('and', 'or', 'not'):\n",
    "                # Just add operators to the stack\n",
    "                stack.append(token)\n",
    "            else:\n",
    "                # Add the variable or boolean constant\n",
    "                stack.append(variables.get(token, token))\n",
    "\n",
    "            i += 1\n",
    "\n",
    "        # Now evaluate the expression in the stack (consider 'not', 'and', 'or')\n",
    "        while 'not' in stack:\n",
    "            idx = stack.index('not')\n",
    "            stack[idx:idx+2] = [apply_operator('not', stack[idx+1])]\n",
    "\n",
    "        while 'and' in stack:\n",
    "            idx = stack.index('and')\n",
    "            stack[idx-1:idx+2] = [apply_operator('and', stack[idx-1], stack[idx+1])]\n",
    "\n",
    "        while 'or' in stack:\n",
    "            idx = stack.index('or')\n",
    "            stack[idx-1:idx+2] = [apply_operator('or', stack[idx-1], stack[idx+1])]\n",
    "\n",
    "        return stack[0]\n",
    "    \n",
    "    # Start the recursive solving process\n",
    "    return recursive_solve(expr)\n",
    "\n",
    "\n",
    "# Example usage:\n",
    "expr = ['(', 'x', 'or', 'y', ')', 'and', '(', 'not', '(', 'x', 'and', 'y', ')', ')']\n",
    "variables = {'x': True, 'y': False}\n",
    "result = evaluate_boolean_expression(expr, variables)\n",
    "print(f\"Result: {result}\")"
   ]
  }
 ],
 "metadata": {
  "kernelspec": {
   "display_name": "main",
   "language": "python",
   "name": "python3"
  },
  "language_info": {
   "codemirror_mode": {
    "name": "ipython",
    "version": 3
   },
   "file_extension": ".py",
   "mimetype": "text/x-python",
   "name": "python",
   "nbconvert_exporter": "python",
   "pygments_lexer": "ipython3",
   "version": "3.12.3"
  }
 },
 "nbformat": 4,
 "nbformat_minor": 2
}
