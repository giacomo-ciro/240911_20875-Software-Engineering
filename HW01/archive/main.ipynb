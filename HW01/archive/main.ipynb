{
 "cells": [
  {
   "cell_type": "code",
   "execution_count": null,
   "metadata": {},
   "outputs": [],
   "source": [
    " running = 0    # 0: var, 1: and/or, 2: not\n",
    "for t in instr[2:]:\n",
    "    if (t in declared_vars) or (t in declared_ids):\n",
    "        running = 0\n",
    "    elif t == ')':\n",
    "        if running > 0:\n",
    "            raise Exception(f\"Invalid assignment {instr}\")\n",
    "    elif t == '(':\n",
    "        if running == 0:\n",
    "            raise Exception(f\"Invalid assignment {instr}\")\n",
    "    elif t in ('and', 'or'):\n",
    "        if running != 0:\n",
    "            raise Exception(f\"Invalid assignment {instr}\")\n",
    "        running = 1\n",
    "    elif t == 'not':\n",
    "        running = 2\n",
    "    else:\n",
    "        raise Exception(f\"Invalid token in assignment: {t}\")"
   ]
  },
  {
   "cell_type": "code",
   "execution_count": null,
   "metadata": {},
   "outputs": [],
   "source": [
    "def check_validity_recursively(expr, declared_vars, declared_ids):\n",
    "    \n",
    "    def check_validity(expr, declared_vars, declared_ids):\n",
    "\n",
    "        node_type = None\n",
    "        i = 0\n",
    "        running = -1   # 0: var, 1: and/or, 2: not\n",
    "        while i < len(expr):\n",
    "            token = expr[i]\n",
    "            \n",
    "            # OPEN parens --> look for matching closing parens\n",
    "            if token == '(':\n",
    "                if running == 0:\n",
    "                    raise Exception(f'Invalid assignment {expr}')\n",
    "                open_parens = 1\n",
    "                for j in range(i + 1, len(expr)):\n",
    "                    if expr[j] == '(':\n",
    "                        open_parens += 1\n",
    "                    elif expr[j] == ')':\n",
    "                        open_parens -= 1\n",
    "                    if open_parens == 0:\n",
    "                        # Solve the sub-expr within the parentheses\n",
    "                        if expr[i + 1:j] == []:\n",
    "                            raise Exception(f'Empty parentheses at position {i} in <{expr}>')\n",
    "                        \n",
    "                        check_validity(expr[i + 1:j])\n",
    "                        i = j  # Move the index to after the closing ')'\n",
    "                        break\n",
    "            \n",
    "            # CLOSING parens\n",
    "            elif token == ')':\n",
    "                raise Exception(f'Unmatched closing parenthesis at position {i} in <{expr}>')\n",
    "            \n",
    "            # IDENTIFIER / VARIABLE\n",
    "            elif (t in declared_vars) or (t in declared_ids):\n",
    "                if running == 0:\n",
    "                    raise Exception(f'Invalid syntax at position {i} in <{expr}>')\n",
    "                running = 0\n",
    "            \n",
    "            # NOT\n",
    "            elif token == 'not':\n",
    "                if running != -1:\n",
    "                    raise Exception(f'Invalid syntax at position {i} in <{expr}>')\n",
    "                running = 2\n",
    "            \n",
    "            # AND / OR\n",
    "            elif token in ('and', 'or'):\n",
    "                if running != 0:\n",
    "                    raise Exception(f'Invalid syntax at position {i} in <{expr}>')\n",
    "            \n",
    "            \n",
    "            else:\n",
    "                raise Exception(f'Invalid token {token} at position {i} in <{expr}>')\n",
    "                \n",
    "            i += 1\n",
    "        if running > 0:\n",
    "            raise Exception(f'Invalid assignment {expr}')\n",
    "        \n",
    "        return \n",
    "    \n",
    "    return check_validity(expr)"
   ]
  },
  {
   "cell_type": "code",
   "execution_count": 57,
   "metadata": {},
   "outputs": [
    {
     "data": {
      "text/plain": [
       "'j2 j1 0e 0 1 0'"
      ]
     },
     "execution_count": 57,
     "metadata": {},
     "output_type": "execute_result"
    }
   ],
   "source": [
    "f = 'j2 j1 0e 0 1 0'\n",
    "\n",
    "re.sub(' ', '  ', f)\n",
    "re.sub(r'\\n[01]\\n', '  ', f)"
   ]
  },
  {
   "cell_type": "code",
   "execution_count": 10,
   "metadata": {},
   "outputs": [
    {
     "name": "stdout",
     "output_type": "stream",
     "text": [
      "ag24_00.txt\n",
      "ag24_01.txt\n",
      "ag24_02.txt\n",
      "ag24_03.txt\n",
      "ag24_04.txt\n",
      "ag24_05.txt\n",
      "ag24_06.txt\n",
      "ag24_07.txt\n",
      "ag24_08.txt\n",
      "ag24_09.txt\n",
      "ag24_10.txt\n",
      "ag24_11.txt\n",
      "ag24_12.txt\n",
      "ag24_13.txt\n",
      "ag24_14.txt\n",
      "ag24_15.txt\n"
     ]
    }
   ],
   "source": [
    "import os\n",
    "import re\n",
    "\n",
    "path1 = r\"C:\\Users\\giaco\\Desktop\\240911_20875-Software-Engineering\\HW01\\outputs\"\n",
    "path2 = r\"C:\\Users\\giaco\\Downloads\\outputs\"\n",
    "for file in os.listdir(path1):\n",
    "    print(file)\n",
    "    # JACK  \n",
    "    f1 = open(path1 + \"/\" + file, 'r').read()\n",
    "    f1 = f1.replace(' ', '').replace('\\n\\n', '\\n')\n",
    "    f1 = f1.splitlines()[1:]\n",
    "    f1 = '\\n'.join(f1)\n",
    "    f1 = re.sub(r'[^01]', '', f1)\n",
    "\n",
    "    # VEZZO\n",
    "    f2 = open(path2 + '/' + file[:-4] + '_output.txt', 'r', encoding='utf-16').read()\n",
    "    f2 = re.sub(r'---.+---', '', f2)\n",
    "    f2 = f2.splitlines()[1:]\n",
    "    f2 = '\\n'.join(f2)\n",
    "    f2 = f2.replace(' ', '')\n",
    "    f2 = re.sub(r'[^01]', '', f2)\n",
    "\n",
    "    for i in range(len(f2)):\n",
    "        if f1[i] != f2[i]:\n",
    "            print(f1[i], f2[i])\n",
    "            print(i)\n"
   ]
  },
  {
   "cell_type": "code",
   "execution_count": null,
   "metadata": {},
   "outputs": [],
   "source": [
    "expr = ['x', 'and', '(', 'not', '(', 'x', 'or', '(', 'y', 'and', '(', 'not', 'z', ')', ')', ')', 'or', 'w', ')']\n",
    "\n",
    "vars = ['x', 'y', 'z', 'w']\n",
    "\n",
    "class Node:\n",
    "    def __init__(self, value):\n",
    "        self.v = value      # variable name\n",
    "        self.low= None      # var = 0\n",
    "        self.high = None    # var = 1\n",
    "\n",
    "def build_BDD(expr, vars):\n",
    "\n",
    "    def build_BDD_rec(expr, vars, table):\n",
    "        current_var = vars.pop()\n",
    "        i = 0\n",
    "        while i < len(expr):\n",
    "            if expr[i] == current_var:\n",
    "                \n",
    "            \n"
   ]
  }
 ],
 "metadata": {
  "kernelspec": {
   "display_name": "main",
   "language": "python",
   "name": "python3"
  },
  "language_info": {
   "codemirror_mode": {
    "name": "ipython",
    "version": 3
   },
   "file_extension": ".py",
   "mimetype": "text/x-python",
   "name": "python",
   "nbconvert_exporter": "python",
   "pygments_lexer": "ipython3",
   "version": "3.12.3"
  }
 },
 "nbformat": 4,
 "nbformat_minor": 2
}
