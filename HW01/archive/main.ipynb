{
 "cells": [
  {
   "cell_type": "code",
   "execution_count": 57,
   "metadata": {},
   "outputs": [
    {
     "data": {
      "text/plain": [
       "'j2 j1 0e 0 1 0'"
      ]
     },
     "execution_count": 57,
     "metadata": {},
     "output_type": "execute_result"
    }
   ],
   "source": [
    "f = 'j2 j1 0e 0 1 0'\n",
    "\n",
    "re.sub(' ', '  ', f)\n",
    "re.sub(r'\\n[01]\\n', '  ', f)"
   ]
  },
  {
   "cell_type": "code",
   "execution_count": 76,
   "metadata": {},
   "outputs": [
    {
     "name": "stdout",
     "output_type": "stream",
     "text": [
      "ag24_00.txt\n",
      "ag24_01.txt\n",
      "ag24_02.txt\n",
      "ag24_03.txt\n",
      "ag24_04.txt\n",
      "ag24_05.txt\n",
      "ag24_06.txt\n",
      "ag24_07.txt\n",
      "ag24_08.txt\n",
      "ag24_09.txt\n",
      "ag24_10.txt\n",
      "ag24_11.txt\n",
      "ag24_12.txt\n",
      "ag24_13.txt\n",
      "ag24_14.txt\n",
      "ag24_15.txt\n"
     ]
    }
   ],
   "source": [
    "import os\n",
    "import re\n",
    "\n",
    "path1 = r\"C:\\Users\\giaco\\Desktop\\240911_20875-Software-Engineering\\HW01\\outputs\"\n",
    "path2 = r\"C:\\Users\\giaco\\Downloads\\outputs\"\n",
    "for file in os.listdir(path1):\n",
    "    print(file)\n",
    "    # JACK  \n",
    "    f1 = open(path1 + \"/\" + file, 'r').read()\n",
    "    f1 = f1.replace(' ', '').replace('\\n\\n', '\\n')\n",
    "    f1 = f1.splitlines()[1:]\n",
    "    f1 = '\\n'.join(f1)\n",
    "    f1 = re.sub(r'[^01]', '', f1)\n",
    "\n",
    "    # VEZZO\n",
    "    f2 = open(path2 + '/' + file[:-4] + '_output.txt', 'r', encoding='utf-16').read()\n",
    "    f2 = re.sub(r'---.+---', '', f2)\n",
    "    f2 = f2.splitlines()[1:]\n",
    "    f2 = '\\n'.join(f2)\n",
    "    f2 = f2.replace(' ', '')\n",
    "    f2 = re.sub(r'[^01]', '', f2)\n",
    "\n",
    "    for i in range(len(f2)):\n",
    "        if f1[i] != f2[i]:\n",
    "            print(f1[i], f2[i])\n",
    "            print(i)\n"
   ]
  }
 ],
 "metadata": {
  "kernelspec": {
   "display_name": "main",
   "language": "python",
   "name": "python3"
  },
  "language_info": {
   "codemirror_mode": {
    "name": "ipython",
    "version": 3
   },
   "file_extension": ".py",
   "mimetype": "text/x-python",
   "name": "python",
   "nbconvert_exporter": "python",
   "pygments_lexer": "ipython3",
   "version": "3.12.3"
  }
 },
 "nbformat": 4,
 "nbformat_minor": 2
}
